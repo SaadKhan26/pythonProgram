{
 "cells": [
  {
   "cell_type": "code",
   "execution_count": 6,
   "metadata": {},
   "outputs": [
    {
     "name": "stdout",
     "output_type": "stream",
     "text": [
      "\n",
      "        PIAIC Card\n",
      "    Name : Saad Gul\n",
      "    Father Name : ALtaf Muhammad\n",
      "    Class : Artificial Intelligence\n",
      "    University : IIUI\n",
      "    \n"
     ]
    }
   ],
   "source": [
    "name = 'Saad Gul'\n",
    "father_name = 'ALtaf Muhammad'\n",
    "classb = 'Artificial Intelligence'\n",
    "university = 'IIUI'\n",
    "\n",
    "message = f'''\n",
    "        PIAIC Card\n",
    "    Name : {name}\n",
    "    Father Name : {father_name}\n",
    "    Class : {classb}\n",
    "    University : {university}\n",
    "    '''\n",
    "print(message)"
   ]
  },
  {
   "cell_type": "code",
   "execution_count": 2,
   "metadata": {},
   "outputs": [
    {
     "name": "stdout",
     "output_type": "stream",
     "text": [
      "\n",
      "        PIAIC Card\n",
      "    Name : Ameer Muavia\n",
      "    Father Name : Pta nae\n",
      "    Class : Artificial Intelligence\n",
      "    University : IIUI\n",
      "    \n"
     ]
    }
   ],
   "source": [
    "name = 'Ameer Muavia'\n",
    "father_name = 'Pta nae'\n",
    "classb = 'Artificial Intelligence'\n",
    "university = 'IIUI'\n",
    "\n",
    "message = f'''\n",
    "        PIAIC Card\n",
    "    Name : {name}\n",
    "    Father Name : {father_name}\n",
    "    Class : {classb}\n",
    "    University : {university}\n",
    "    '''\n",
    "print(message)"
   ]
  },
  {
   "cell_type": "code",
   "execution_count": 3,
   "metadata": {},
   "outputs": [
    {
     "name": "stdout",
     "output_type": "stream",
     "text": [
      "\n",
      "        PIAIC Card\n",
      "    Name : Nouman Abassi\n",
      "    Father Name : Pta nae\n",
      "    Class : Artificial Intelligence\n",
      "    University : IIUI\n",
      "    \n"
     ]
    }
   ],
   "source": [
    "name = 'Nouman Abassi'\n",
    "father_name = 'Pta nae'\n",
    "classb = 'Artificial Intelligence'\n",
    "university = 'IIUI'\n",
    "\n",
    "message = f'''\n",
    "        PIAIC Card\n",
    "    Name : {name}\n",
    "    Father Name : {father_name}\n",
    "    Class : {classb}\n",
    "    University : {university}\n",
    "    '''\n",
    "print(message)"
   ]
  },
  {
   "cell_type": "code",
   "execution_count": 4,
   "metadata": {},
   "outputs": [
    {
     "name": "stdout",
     "output_type": "stream",
     "text": [
      "\n",
      "        PIAIC Card\n",
      "    Name : Hamza Javed\n",
      "    Father Name : Pta nae\n",
      "    Class : Block Chain\n",
      "    University : IIUI\n",
      "    \n"
     ]
    }
   ],
   "source": [
    "name = 'Hamza Javed'\n",
    "father_name = 'Pta nae'\n",
    "classb = 'Block Chain'\n",
    "university = 'IIUI'\n",
    "\n",
    "message = f'''\n",
    "        PIAIC Card\n",
    "    Name : {name}\n",
    "    Father Name : {father_name}\n",
    "    Class : {classb}\n",
    "    University : {university}\n",
    "    '''\n",
    "print(message)"
   ]
  },
  {
   "cell_type": "code",
   "execution_count": 5,
   "metadata": {},
   "outputs": [
    {
     "name": "stdout",
     "output_type": "stream",
     "text": [
      "\n",
      "        PIAIC Card\n",
      "    Name : Junaid Mehmood\n",
      "    Father Name : Pta nae\n",
      "    Class : Internet of Things\n",
      "    University : IIUI\n",
      "    \n"
     ]
    }
   ],
   "source": [
    "name = 'Junaid Mehmood'\n",
    "father_name = 'Pta nae'\n",
    "classb = 'Internet of Things'\n",
    "university = 'IIUI'\n",
    "\n",
    "message = f'''\n",
    "        PIAIC Card\n",
    "    Name : {name}\n",
    "    Father Name : {father_name}\n",
    "    Class : {classb}\n",
    "    University : {university}\n",
    "    '''\n",
    "print(message)"
   ]
  },
  {
   "cell_type": "code",
   "execution_count": null,
   "metadata": {},
   "outputs": [],
   "source": []
  }
 ],
 "metadata": {
  "kernelspec": {
   "display_name": "Python 3",
   "language": "python",
   "name": "python3"
  },
  "language_info": {
   "codemirror_mode": {
    "name": "ipython",
    "version": 3
   },
   "file_extension": ".py",
   "mimetype": "text/x-python",
   "name": "python",
   "nbconvert_exporter": "python",
   "pygments_lexer": "ipython3",
   "version": "3.7.4"
  }
 },
 "nbformat": 4,
 "nbformat_minor": 2
}
